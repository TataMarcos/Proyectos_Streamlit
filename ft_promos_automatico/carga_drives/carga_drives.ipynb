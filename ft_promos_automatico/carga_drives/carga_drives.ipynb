{
 "cells": [
  {
   "cell_type": "code",
   "execution_count": 1,
   "metadata": {
    "collapsed": true
   },
   "outputs": [],
   "source": [
    "import pandas as pd\n",
    "from utils import *\n",
    "from querys import *\n",
    "from datetime import datetime\n",
    "import sys\n",
    "import warnings\n",
    "pd.options.mode.chained_assignment = None\n",
    "warnings.simplefilter(action='ignore', category=FutureWarning)"
   ]
  },
  {
   "cell_type": "code",
   "execution_count": 4,
   "outputs": [
    {
     "name": "stdout",
     "output_type": "stream",
     "text": [
      "Intento 1\n",
      "Correct Password - connected to SNOWFLAKE\n"
     ]
    }
   ],
   "source": [
    "counter = 0\n",
    "while True:\n",
    "    print(f\"Intento {counter + 1}\")\n",
    "    if counter < 4:\n",
    "        try:\n",
    "            with open('credentials.json') as f:\n",
    "                data_pass = json.load(f)\n",
    "\n",
    "            pass_ = input(\"INGRESAR PASSCODE:\")\n",
    "\n",
    "            snowflake_connection = snowflake.connector.connect(\n",
    "                user=data_pass['snow']['USER'],\n",
    "                password=data_pass['snow']['PASS'],\n",
    "                account=data_pass['snow']['ACCOUNT'],\n",
    "                passcode=pass_,\n",
    "                database='SANDBOX_PLUS',\n",
    "                schema='DWH'\n",
    "            )\n",
    "\n",
    "            cursor = snowflake_connection.cursor()\n",
    "\n",
    "            print('Correct Password - connected to SNOWFLAKE')\n",
    "\n",
    "            break\n",
    "\n",
    "        except FileNotFoundError:\n",
    "            print(\"Error: 'credentials.json' file not found.\")\n",
    "            break\n",
    "        except json.JSONDecodeError:\n",
    "            print(\"Error: 'credentials.json' file is not valid JSON.\")\n",
    "            break\n",
    "        except Exception as e:\n",
    "            counter += 1\n",
    "            print(f'Error: {e}')\n",
    "            print('Incorrect Password - provide again')\n",
    "\n",
    "    else:\n",
    "        print('3 Intentos fallidos')\n",
    "        break"
   ],
   "metadata": {
    "collapsed": false
   }
  },
  {
   "cell_type": "code",
   "execution_count": 3,
   "outputs": [],
   "source": [
    "# 1. Precios Oferta\n",
    "cursor.execute(precios_oferta_query)\n",
    "df_precios_oferta = cursor.fetch_pandas_all()\n",
    "\n",
    "df_precios_oferta['FIN'] = df_precios_oferta['FIN'].astype(str)\n",
    "df_precios_oferta['INICIO'] = df_precios_oferta['INICIO'].astype(str)\n",
    "df_precios_oferta['FECHA_ACTUALIZACION'] = datetime.today().strftime('%Y-%m-%d')"
   ],
   "metadata": {
    "collapsed": false
   }
  },
  {
   "cell_type": "code",
   "execution_count": 4,
   "outputs": [],
   "source": [
    "# 2. Precios Stock Mediano dia de ayer\n",
    "# cursor.execute(precios_stock_mediano_query)\n",
    "# df_precios_stock_mediano = cursor.fetch_pandas_all()\n",
    "# df_precios_stock_mediano['FECHA_ACTUALIZACION'] = datetime.today().strftime('%Y-%m-%d')"
   ],
   "metadata": {
    "collapsed": false
   }
  },
  {
   "cell_type": "code",
   "execution_count": 5,
   "outputs": [],
   "source": [
    "# 3. OPT\n",
    "cursor.execute(opt_query)\n",
    "df_opt = cursor.fetch_pandas_all()\n",
    "df_opt['FECHA_ACTUALIZACION'] = datetime.today().strftime('%Y-%m-%d')"
   ],
   "metadata": {
    "collapsed": false
   }
  },
  {
   "cell_type": "code",
   "execution_count": 6,
   "outputs": [],
   "source": [
    "# 4. Locales Activos Ayer\n",
    "\n",
    "cursor.execute(locales_activos_ayer_query)\n",
    "df_locales_activos_ayer = cursor.fetch_pandas_all()\n",
    "df_locales_activos_ayer['FECHA_ACTUALIZACION'] = datetime.today().strftime('%Y-%m-%d')"
   ],
   "metadata": {
    "collapsed": false
   }
  },
  {
   "cell_type": "code",
   "execution_count": 7,
   "outputs": [],
   "source": [
    "# 5. Days on Hand\n",
    "\n",
    "# Parte A - Articulos\n",
    "cursor.execute(days_on_hand_articulo_query)\n",
    "df_days_on_hand_articulo = cursor.fetch_pandas_all()\n",
    "\n",
    "df_days_on_hand_articulo = df_days_on_hand_articulo[df_days_on_hand_articulo['UNIDADES'] != 0]\n",
    "df_days_on_hand_articulo['DAYS ON HAND'] = df_days_on_hand_articulo['UNIDADES'] / df_days_on_hand_articulo[\n",
    "    'UNIDADES_VENDIDAS']\n",
    "df_days_on_hand_articulo['DAYS ON HAND'][\n",
    "    (df_days_on_hand_articulo['UNIDADES'] == 0) & (df_days_on_hand_articulo['UNIDADES_VENDIDAS'] == 0)] = 0\n",
    "df_days_on_hand_articulo['DAYS ON HAND'][df_days_on_hand_articulo['DAYS ON HAND'] == np.inf] = 999999\n",
    "df_days_on_hand_articulo['DAYS ON HAND'][df_days_on_hand_articulo['DAYS ON HAND'] == -np.inf] = -999999\n",
    "df_days_on_hand_articulo['DAYS ON HAND'][df_days_on_hand_articulo['DAYS ON HAND'] > 999999] = 999999\n",
    "df_days_on_hand_articulo['DAYS ON HAND'][df_days_on_hand_articulo['DAYS ON HAND'] < -999999] = -999999\n",
    "df_days_on_hand_articulo['DAYS ON HAND'].fillna(999999, inplace=True)\n",
    "df_days_on_hand_articulo['DAYS ON HAND'] = round(df_days_on_hand_articulo['DAYS ON HAND'], 0).astype(int)\n",
    "df_days_on_hand_articulo['UNIDADES'] = round(df_days_on_hand_articulo['UNIDADES'], 0).astype(int)\n",
    "df_days_on_hand_articulo['UNIDADES_VENDIDAS'] = round(df_days_on_hand_articulo['UNIDADES_VENDIDAS'], 0).astype(int)\n",
    "df_days_on_hand_articulo.rename(\n",
    "    {\n",
    "        'UNIDADES_VENDIDAS': 'UNIDADES VENDIDAS',\n",
    "        'DAYS ON HAND': 'DAYS ON HAND ARTICULO'\n",
    "    },\n",
    "    axis=1, inplace=True)\n",
    "df_days_on_hand_articulo = df_days_on_hand_articulo[\n",
    "    ['SUBCLASE', 'ORIN', 'UNIDADES', 'UNIDADES VENDIDAS', 'DAYS ON HAND ARTICULO']]\n",
    "\n",
    "df_days_on_hand_articulo = df_days_on_hand_articulo[df_days_on_hand_articulo['DAYS ON HAND ARTICULO'] != 999999]\n",
    "df_days_on_hand_articulo = df_days_on_hand_articulo[df_days_on_hand_articulo['DAYS ON HAND ARTICULO'] != -999999]\n",
    "\n",
    "# Parte B - Subclases\n",
    "cursor.execute(days_on_hand_subclase_query)\n",
    "df_days_on_hand_subclase = cursor.fetch_pandas_all()\n",
    "\n",
    "df_days_on_hand_subclase = df_days_on_hand_subclase[df_days_on_hand_subclase['UNIDADES'] != 0]\n",
    "df_days_on_hand_subclase['DAYS ON HAND'] = df_days_on_hand_subclase['UNIDADES'] / df_days_on_hand_subclase[\n",
    "    'UNIDADES_VENDIDAS']\n",
    "df_days_on_hand_subclase['DAYS ON HAND'][\n",
    "    (df_days_on_hand_subclase['UNIDADES'] == 0) & (df_days_on_hand_subclase['UNIDADES_VENDIDAS'] == 0)] = 0\n",
    "df_days_on_hand_subclase['DAYS ON HAND'][df_days_on_hand_subclase['DAYS ON HAND'] == np.inf] = 999999\n",
    "df_days_on_hand_subclase['DAYS ON HAND'][df_days_on_hand_subclase['DAYS ON HAND'] == -np.inf] = -999999\n",
    "df_days_on_hand_subclase['DAYS ON HAND'][df_days_on_hand_subclase['DAYS ON HAND'] > 999999] = 999999\n",
    "df_days_on_hand_subclase['DAYS ON HAND'][df_days_on_hand_subclase['DAYS ON HAND'] < -999999] = -999999\n",
    "df_days_on_hand_subclase['DAYS ON HAND'].fillna(999999, inplace=True)\n",
    "df_days_on_hand_subclase['DAYS ON HAND'] = round(df_days_on_hand_subclase['DAYS ON HAND'], 0).astype(int)\n",
    "df_days_on_hand_subclase['UNIDADES'] = round(df_days_on_hand_subclase['UNIDADES'], 0).astype(int)\n",
    "df_days_on_hand_subclase['UNIDADES_VENDIDAS'] = round(df_days_on_hand_subclase['UNIDADES_VENDIDAS'], 0).astype(int)\n",
    "df_days_on_hand_subclase.rename(\n",
    "    {\n",
    "        'UNIDADES_VENDIDAS': 'UNIDADES VENDIDAS',\n",
    "        'DAYS ON HAND': 'DAYS ON HAND SUBCLASE'\n",
    "    },\n",
    "    axis=1, inplace=True)\n",
    "df_days_on_hand_subclase = df_days_on_hand_subclase[\n",
    "    ['SUBCLASE', 'UNIDADES', 'UNIDADES VENDIDAS', 'DAYS ON HAND SUBCLASE']]\n",
    "\n",
    "# Parte C - Consolido en Articulos\n",
    "\n",
    "df_days_on_hand_articulo = df_days_on_hand_articulo.merge(\n",
    "    df_days_on_hand_subclase[['SUBCLASE', 'DAYS ON HAND SUBCLASE']],\n",
    "    on='SUBCLASE',\n",
    "    how='left')\n",
    "\n",
    "df_days_on_hand_articulo['FECHA_ACTUALIZACION'] = datetime.today().strftime('%Y-%m-%d')"
   ],
   "metadata": {
    "collapsed": false
   }
  },
  {
   "cell_type": "code",
   "execution_count": 8,
   "outputs": [],
   "source": [
    "# 6. Top 5 articulos en Subclase\n",
    "\n",
    "cursor.execute(top_5_query)\n",
    "top = cursor.fetch_pandas_all()\n",
    "\n",
    "top['Z_Score'] = top.groupby('ORIN')['GB1'].transform(lambda x: (x - x.mean()) / x.std())\n",
    "top['Outlier'] = np.where((top['Z_Score'] > 3) | (top['Z_Score'] < -3), True, False)\n",
    "top = top[top['Outlier'] == False]\n",
    "top_2 = top.groupby(['SUBCLASE', 'ORIN', 'ARTC_ARTC_DESC'])['GB1'].sum().reset_index()\n",
    "top_2 = top_2[top_2['GB1'] > 0]\n",
    "top_2 = top_2[~top_2['ORIN'].isin(['-1', ''])]\n",
    "top_2['R'] = top_2.groupby(['SUBCLASE'])['GB1'].rank(method='min', ascending=False)\n",
    "top_2 = top_2[top_2['R'] <= 5]\n",
    "top_3 = top_2[['ORIN', 'ARTC_ARTC_DESC']].drop_duplicates()\n",
    "top_3['FECHA_ACTUALIZACION'] = datetime.today().strftime('%Y-%m-%d')"
   ],
   "metadata": {
    "collapsed": false
   }
  },
  {
   "cell_type": "code",
   "execution_count": 9,
   "outputs": [],
   "source": [
    "# 7. Unidades diarias REGULARES - ultimos 30\n",
    "\n",
    "cursor.execute(unidades_regulares_query)\n",
    "un_regular = cursor.fetch_pandas_all()\n",
    "\n",
    "un_regular['Z_Score'] = un_regular.groupby('ORIN')['UNIDADES'].transform(lambda x: (x - x.mean()) / x.std())\n",
    "un_regular['Outlier'] = np.where((un_regular['Z_Score'] > 3) | (un_regular['Z_Score'] < -3), True, False)\n",
    "un_regular = un_regular[un_regular['Outlier'] == False]\n",
    "un_regular_2 = un_regular.groupby(['ORIN', 'ARTC_ARTC_DESC', 'TIEM_DIA_ID'])['UNIDADES'].sum().reset_index()\n",
    "un_regular_2 = un_regular_2.groupby(['ORIN', 'ARTC_ARTC_DESC'])['UNIDADES'].median().reset_index()\n",
    "un_regular_2.rename({'UNIDADES': 'UNIDADES PROMEDIO'}, axis=1, inplace=True)\n",
    "un_regular_2 = un_regular_2[un_regular_2['UNIDADES PROMEDIO'] > 0]\n",
    "un_regular_2 = un_regular_2[~un_regular_2['ORIN'].isin(['-1', ''])]\n",
    "un_regular_2['FECHA_ACTUALIZACION'] = datetime.today().strftime('%Y-%m-%d')"
   ],
   "metadata": {
    "collapsed": false
   }
  },
  {
   "cell_type": "code",
   "execution_count": 10,
   "outputs": [
    {
     "data": {
      "text/plain": "      EVENTO_ID        ORIN                     ARTC_ARTC_DESC  ARTC_ARTC_ID  \\\n28         2484  1000385297  PIZZA CON MUZZARELLA SADIA 440 GR        274837   \n649        2534  1000385297  PIZZA CON MUZZARELLA SADIA 440 GR        274837   \n1807       2499  1000385297  PIZZA CON MUZZARELLA SADIA 440 GR        274837   \n\n     PROM_FECHA_INICIO PROM_FECHA_FIN    R  \n28          2025-03-21     2025-03-31  1.0  \n649         2025-03-06     2025-03-12  2.0  \n1807        2025-02-27     2025-03-05  3.0  ",
      "text/html": "<div>\n<style scoped>\n    .dataframe tbody tr th:only-of-type {\n        vertical-align: middle;\n    }\n\n    .dataframe tbody tr th {\n        vertical-align: top;\n    }\n\n    .dataframe thead th {\n        text-align: right;\n    }\n</style>\n<table border=\"1\" class=\"dataframe\">\n  <thead>\n    <tr style=\"text-align: right;\">\n      <th></th>\n      <th>EVENTO_ID</th>\n      <th>ORIN</th>\n      <th>ARTC_ARTC_DESC</th>\n      <th>ARTC_ARTC_ID</th>\n      <th>PROM_FECHA_INICIO</th>\n      <th>PROM_FECHA_FIN</th>\n      <th>R</th>\n    </tr>\n  </thead>\n  <tbody>\n    <tr>\n      <th>28</th>\n      <td>2484</td>\n      <td>1000385297</td>\n      <td>PIZZA CON MUZZARELLA SADIA 440 GR</td>\n      <td>274837</td>\n      <td>2025-03-21</td>\n      <td>2025-03-31</td>\n      <td>1.0</td>\n    </tr>\n    <tr>\n      <th>649</th>\n      <td>2534</td>\n      <td>1000385297</td>\n      <td>PIZZA CON MUZZARELLA SADIA 440 GR</td>\n      <td>274837</td>\n      <td>2025-03-06</td>\n      <td>2025-03-12</td>\n      <td>2.0</td>\n    </tr>\n    <tr>\n      <th>1807</th>\n      <td>2499</td>\n      <td>1000385297</td>\n      <td>PIZZA CON MUZZARELLA SADIA 440 GR</td>\n      <td>274837</td>\n      <td>2025-02-27</td>\n      <td>2025-03-05</td>\n      <td>3.0</td>\n    </tr>\n  </tbody>\n</table>\n</div>"
     },
     "execution_count": 10,
     "metadata": {},
     "output_type": "execute_result"
    }
   ],
   "source": [
    "# 8. Unidades diarias PROMO - en ultimas 3 promos (siempre que el inicio < current_date)\n",
    "\n",
    "cursor.execute(unidades_promo_query_1)\n",
    "un_promo_1 = cursor.fetch_pandas_all()\n",
    "\n",
    "un_promo_1.head(2)\n",
    "\n",
    "un_promo_1['ORIN'].value_counts()\n",
    "\n",
    "un_promo_1['R'] = un_promo_1.groupby('ORIN')['PROM_FECHA_FIN'].rank(method='min', ascending=False)\n",
    "un_promo_1 = un_promo_1[un_promo_1['R'] <= 3]\n",
    "un_promo_1[un_promo_1['ORIN'] == '1000385297']"
   ],
   "metadata": {
    "collapsed": false
   }
  },
  {
   "cell_type": "code",
   "execution_count": 11,
   "outputs": [
    {
     "data": {
      "text/plain": "  TIEM_DIA_ID        ORIN  UNIDADES\n0  2024-03-25  1000005535       4.0\n1  2024-03-25  1000005593       2.0",
      "text/html": "<div>\n<style scoped>\n    .dataframe tbody tr th:only-of-type {\n        vertical-align: middle;\n    }\n\n    .dataframe tbody tr th {\n        vertical-align: top;\n    }\n\n    .dataframe thead th {\n        text-align: right;\n    }\n</style>\n<table border=\"1\" class=\"dataframe\">\n  <thead>\n    <tr style=\"text-align: right;\">\n      <th></th>\n      <th>TIEM_DIA_ID</th>\n      <th>ORIN</th>\n      <th>UNIDADES</th>\n    </tr>\n  </thead>\n  <tbody>\n    <tr>\n      <th>0</th>\n      <td>2024-03-25</td>\n      <td>1000005535</td>\n      <td>4.0</td>\n    </tr>\n    <tr>\n      <th>1</th>\n      <td>2024-03-25</td>\n      <td>1000005593</td>\n      <td>2.0</td>\n    </tr>\n  </tbody>\n</table>\n</div>"
     },
     "execution_count": 11,
     "metadata": {},
     "output_type": "execute_result"
    }
   ],
   "source": [
    "cursor.execute(unidades_promo_query_2)\n",
    "un_promo_2 = cursor.fetch_pandas_all()\n",
    "\n",
    "un_promo_2.head(2)"
   ],
   "metadata": {
    "collapsed": false
   }
  },
  {
   "cell_type": "code",
   "execution_count": 12,
   "outputs": [
    {
     "data": {
      "text/plain": "        EVENTO_ID        ORIN                     ARTC_ARTC_DESC  \\\n8294         2484  1000385297  PIZZA CON MUZZARELLA SADIA 440 GR   \n8295         2484  1000385297  PIZZA CON MUZZARELLA SADIA 440 GR   \n8296         2484  1000385297  PIZZA CON MUZZARELLA SADIA 440 GR   \n8297         2484  1000385297  PIZZA CON MUZZARELLA SADIA 440 GR   \n212118       2534  1000385297  PIZZA CON MUZZARELLA SADIA 440 GR   \n212119       2534  1000385297  PIZZA CON MUZZARELLA SADIA 440 GR   \n212120       2534  1000385297  PIZZA CON MUZZARELLA SADIA 440 GR   \n212121       2534  1000385297  PIZZA CON MUZZARELLA SADIA 440 GR   \n212122       2534  1000385297  PIZZA CON MUZZARELLA SADIA 440 GR   \n212123       2534  1000385297  PIZZA CON MUZZARELLA SADIA 440 GR   \n212124       2534  1000385297  PIZZA CON MUZZARELLA SADIA 440 GR   \n461561       2499  1000385297  PIZZA CON MUZZARELLA SADIA 440 GR   \n461562       2499  1000385297  PIZZA CON MUZZARELLA SADIA 440 GR   \n461563       2499  1000385297  PIZZA CON MUZZARELLA SADIA 440 GR   \n461564       2499  1000385297  PIZZA CON MUZZARELLA SADIA 440 GR   \n461565       2499  1000385297  PIZZA CON MUZZARELLA SADIA 440 GR   \n461566       2499  1000385297  PIZZA CON MUZZARELLA SADIA 440 GR   \n461567       2499  1000385297  PIZZA CON MUZZARELLA SADIA 440 GR   \n\n        ARTC_ARTC_ID PROM_FECHA_INICIO PROM_FECHA_FIN    R TIEM_DIA_ID  \\\n8294          274837        2025-03-21     2025-03-31  1.0  2025-03-21   \n8295          274837        2025-03-21     2025-03-31  1.0  2025-03-22   \n8296          274837        2025-03-21     2025-03-31  1.0  2025-03-23   \n8297          274837        2025-03-21     2025-03-31  1.0  2025-03-24   \n212118        274837        2025-03-06     2025-03-12  2.0  2025-03-06   \n212119        274837        2025-03-06     2025-03-12  2.0  2025-03-07   \n212120        274837        2025-03-06     2025-03-12  2.0  2025-03-08   \n212121        274837        2025-03-06     2025-03-12  2.0  2025-03-09   \n212122        274837        2025-03-06     2025-03-12  2.0  2025-03-10   \n212123        274837        2025-03-06     2025-03-12  2.0  2025-03-11   \n212124        274837        2025-03-06     2025-03-12  2.0  2025-03-12   \n461561        274837        2025-02-27     2025-03-05  3.0  2025-02-27   \n461562        274837        2025-02-27     2025-03-05  3.0  2025-02-28   \n461563        274837        2025-02-27     2025-03-05  3.0  2025-03-01   \n461564        274837        2025-02-27     2025-03-05  3.0  2025-03-02   \n461565        274837        2025-02-27     2025-03-05  3.0  2025-03-03   \n461566        274837        2025-02-27     2025-03-05  3.0  2025-03-04   \n461567        274837        2025-02-27     2025-03-05  3.0  2025-03-05   \n\n        UNIDADES  \n8294       235.0  \n8295       162.0  \n8296       129.0  \n8297        92.0  \n212118      81.0  \n212119     128.0  \n212120     153.0  \n212121     109.0  \n212122      85.0  \n212123      79.0  \n212124      83.0  \n461561      94.0  \n461562     156.0  \n461563     162.0  \n461564     111.0  \n461565      95.0  \n461566      82.0  \n461567      58.0  ",
      "text/html": "<div>\n<style scoped>\n    .dataframe tbody tr th:only-of-type {\n        vertical-align: middle;\n    }\n\n    .dataframe tbody tr th {\n        vertical-align: top;\n    }\n\n    .dataframe thead th {\n        text-align: right;\n    }\n</style>\n<table border=\"1\" class=\"dataframe\">\n  <thead>\n    <tr style=\"text-align: right;\">\n      <th></th>\n      <th>EVENTO_ID</th>\n      <th>ORIN</th>\n      <th>ARTC_ARTC_DESC</th>\n      <th>ARTC_ARTC_ID</th>\n      <th>PROM_FECHA_INICIO</th>\n      <th>PROM_FECHA_FIN</th>\n      <th>R</th>\n      <th>TIEM_DIA_ID</th>\n      <th>UNIDADES</th>\n    </tr>\n  </thead>\n  <tbody>\n    <tr>\n      <th>8294</th>\n      <td>2484</td>\n      <td>1000385297</td>\n      <td>PIZZA CON MUZZARELLA SADIA 440 GR</td>\n      <td>274837</td>\n      <td>2025-03-21</td>\n      <td>2025-03-31</td>\n      <td>1.0</td>\n      <td>2025-03-21</td>\n      <td>235.0</td>\n    </tr>\n    <tr>\n      <th>8295</th>\n      <td>2484</td>\n      <td>1000385297</td>\n      <td>PIZZA CON MUZZARELLA SADIA 440 GR</td>\n      <td>274837</td>\n      <td>2025-03-21</td>\n      <td>2025-03-31</td>\n      <td>1.0</td>\n      <td>2025-03-22</td>\n      <td>162.0</td>\n    </tr>\n    <tr>\n      <th>8296</th>\n      <td>2484</td>\n      <td>1000385297</td>\n      <td>PIZZA CON MUZZARELLA SADIA 440 GR</td>\n      <td>274837</td>\n      <td>2025-03-21</td>\n      <td>2025-03-31</td>\n      <td>1.0</td>\n      <td>2025-03-23</td>\n      <td>129.0</td>\n    </tr>\n    <tr>\n      <th>8297</th>\n      <td>2484</td>\n      <td>1000385297</td>\n      <td>PIZZA CON MUZZARELLA SADIA 440 GR</td>\n      <td>274837</td>\n      <td>2025-03-21</td>\n      <td>2025-03-31</td>\n      <td>1.0</td>\n      <td>2025-03-24</td>\n      <td>92.0</td>\n    </tr>\n    <tr>\n      <th>212118</th>\n      <td>2534</td>\n      <td>1000385297</td>\n      <td>PIZZA CON MUZZARELLA SADIA 440 GR</td>\n      <td>274837</td>\n      <td>2025-03-06</td>\n      <td>2025-03-12</td>\n      <td>2.0</td>\n      <td>2025-03-06</td>\n      <td>81.0</td>\n    </tr>\n    <tr>\n      <th>212119</th>\n      <td>2534</td>\n      <td>1000385297</td>\n      <td>PIZZA CON MUZZARELLA SADIA 440 GR</td>\n      <td>274837</td>\n      <td>2025-03-06</td>\n      <td>2025-03-12</td>\n      <td>2.0</td>\n      <td>2025-03-07</td>\n      <td>128.0</td>\n    </tr>\n    <tr>\n      <th>212120</th>\n      <td>2534</td>\n      <td>1000385297</td>\n      <td>PIZZA CON MUZZARELLA SADIA 440 GR</td>\n      <td>274837</td>\n      <td>2025-03-06</td>\n      <td>2025-03-12</td>\n      <td>2.0</td>\n      <td>2025-03-08</td>\n      <td>153.0</td>\n    </tr>\n    <tr>\n      <th>212121</th>\n      <td>2534</td>\n      <td>1000385297</td>\n      <td>PIZZA CON MUZZARELLA SADIA 440 GR</td>\n      <td>274837</td>\n      <td>2025-03-06</td>\n      <td>2025-03-12</td>\n      <td>2.0</td>\n      <td>2025-03-09</td>\n      <td>109.0</td>\n    </tr>\n    <tr>\n      <th>212122</th>\n      <td>2534</td>\n      <td>1000385297</td>\n      <td>PIZZA CON MUZZARELLA SADIA 440 GR</td>\n      <td>274837</td>\n      <td>2025-03-06</td>\n      <td>2025-03-12</td>\n      <td>2.0</td>\n      <td>2025-03-10</td>\n      <td>85.0</td>\n    </tr>\n    <tr>\n      <th>212123</th>\n      <td>2534</td>\n      <td>1000385297</td>\n      <td>PIZZA CON MUZZARELLA SADIA 440 GR</td>\n      <td>274837</td>\n      <td>2025-03-06</td>\n      <td>2025-03-12</td>\n      <td>2.0</td>\n      <td>2025-03-11</td>\n      <td>79.0</td>\n    </tr>\n    <tr>\n      <th>212124</th>\n      <td>2534</td>\n      <td>1000385297</td>\n      <td>PIZZA CON MUZZARELLA SADIA 440 GR</td>\n      <td>274837</td>\n      <td>2025-03-06</td>\n      <td>2025-03-12</td>\n      <td>2.0</td>\n      <td>2025-03-12</td>\n      <td>83.0</td>\n    </tr>\n    <tr>\n      <th>461561</th>\n      <td>2499</td>\n      <td>1000385297</td>\n      <td>PIZZA CON MUZZARELLA SADIA 440 GR</td>\n      <td>274837</td>\n      <td>2025-02-27</td>\n      <td>2025-03-05</td>\n      <td>3.0</td>\n      <td>2025-02-27</td>\n      <td>94.0</td>\n    </tr>\n    <tr>\n      <th>461562</th>\n      <td>2499</td>\n      <td>1000385297</td>\n      <td>PIZZA CON MUZZARELLA SADIA 440 GR</td>\n      <td>274837</td>\n      <td>2025-02-27</td>\n      <td>2025-03-05</td>\n      <td>3.0</td>\n      <td>2025-02-28</td>\n      <td>156.0</td>\n    </tr>\n    <tr>\n      <th>461563</th>\n      <td>2499</td>\n      <td>1000385297</td>\n      <td>PIZZA CON MUZZARELLA SADIA 440 GR</td>\n      <td>274837</td>\n      <td>2025-02-27</td>\n      <td>2025-03-05</td>\n      <td>3.0</td>\n      <td>2025-03-01</td>\n      <td>162.0</td>\n    </tr>\n    <tr>\n      <th>461564</th>\n      <td>2499</td>\n      <td>1000385297</td>\n      <td>PIZZA CON MUZZARELLA SADIA 440 GR</td>\n      <td>274837</td>\n      <td>2025-02-27</td>\n      <td>2025-03-05</td>\n      <td>3.0</td>\n      <td>2025-03-02</td>\n      <td>111.0</td>\n    </tr>\n    <tr>\n      <th>461565</th>\n      <td>2499</td>\n      <td>1000385297</td>\n      <td>PIZZA CON MUZZARELLA SADIA 440 GR</td>\n      <td>274837</td>\n      <td>2025-02-27</td>\n      <td>2025-03-05</td>\n      <td>3.0</td>\n      <td>2025-03-03</td>\n      <td>95.0</td>\n    </tr>\n    <tr>\n      <th>461566</th>\n      <td>2499</td>\n      <td>1000385297</td>\n      <td>PIZZA CON MUZZARELLA SADIA 440 GR</td>\n      <td>274837</td>\n      <td>2025-02-27</td>\n      <td>2025-03-05</td>\n      <td>3.0</td>\n      <td>2025-03-04</td>\n      <td>82.0</td>\n    </tr>\n    <tr>\n      <th>461567</th>\n      <td>2499</td>\n      <td>1000385297</td>\n      <td>PIZZA CON MUZZARELLA SADIA 440 GR</td>\n      <td>274837</td>\n      <td>2025-02-27</td>\n      <td>2025-03-05</td>\n      <td>3.0</td>\n      <td>2025-03-05</td>\n      <td>58.0</td>\n    </tr>\n  </tbody>\n</table>\n</div>"
     },
     "execution_count": 12,
     "metadata": {},
     "output_type": "execute_result"
    }
   ],
   "source": [
    "un_promo_merged = un_promo_1.merge(un_promo_2, on=['ORIN'], how='left')\n",
    "\n",
    "for column in ['PROM_FECHA_INICIO', 'PROM_FECHA_FIN', 'TIEM_DIA_ID']:\n",
    "    un_promo_merged[column] = pd.to_datetime(un_promo_merged[column])\n",
    "\n",
    "un_promo_merged = un_promo_merged[\n",
    "    (un_promo_merged['TIEM_DIA_ID'] >= un_promo_merged['PROM_FECHA_INICIO'])\n",
    "    &\n",
    "    (un_promo_merged['TIEM_DIA_ID'] <= un_promo_merged['PROM_FECHA_FIN'])\n",
    "    ]\n",
    "\n",
    "un_promo_merged[un_promo_merged['ORIN'] == '1000385297']"
   ],
   "metadata": {
    "collapsed": false
   }
  },
  {
   "cell_type": "code",
   "execution_count": 13,
   "outputs": [
    {
     "data": {
      "text/plain": "            ORIN                     ARTC_ARTC_DESC  UNIDADES\n6934  1000385297  PIZZA CON MUZZARELLA SADIA 440 GR     102.0",
      "text/html": "<div>\n<style scoped>\n    .dataframe tbody tr th:only-of-type {\n        vertical-align: middle;\n    }\n\n    .dataframe tbody tr th {\n        vertical-align: top;\n    }\n\n    .dataframe thead th {\n        text-align: right;\n    }\n</style>\n<table border=\"1\" class=\"dataframe\">\n  <thead>\n    <tr style=\"text-align: right;\">\n      <th></th>\n      <th>ORIN</th>\n      <th>ARTC_ARTC_DESC</th>\n      <th>UNIDADES</th>\n    </tr>\n  </thead>\n  <tbody>\n    <tr>\n      <th>6934</th>\n      <td>1000385297</td>\n      <td>PIZZA CON MUZZARELLA SADIA 440 GR</td>\n      <td>102.0</td>\n    </tr>\n  </tbody>\n</table>\n</div>"
     },
     "execution_count": 13,
     "metadata": {},
     "output_type": "execute_result"
    }
   ],
   "source": [
    "un_promo_merged_2 = un_promo_merged.groupby(['ORIN', 'ARTC_ARTC_DESC'])['UNIDADES'].median().reset_index()\n",
    "un_promo_merged_2[un_promo_merged_2['ORIN'] == '1000385297']"
   ],
   "metadata": {
    "collapsed": false
   }
  },
  {
   "cell_type": "code",
   "execution_count": 14,
   "outputs": [
    {
     "data": {
      "text/plain": "            ORIN                 ARTC_ARTC_DESC  UNIDADES\n2486  1000050454  YERBA COMPUESTA LA SELVA 1 KG      79.0",
      "text/html": "<div>\n<style scoped>\n    .dataframe tbody tr th:only-of-type {\n        vertical-align: middle;\n    }\n\n    .dataframe tbody tr th {\n        vertical-align: top;\n    }\n\n    .dataframe thead th {\n        text-align: right;\n    }\n</style>\n<table border=\"1\" class=\"dataframe\">\n  <thead>\n    <tr style=\"text-align: right;\">\n      <th></th>\n      <th>ORIN</th>\n      <th>ARTC_ARTC_DESC</th>\n      <th>UNIDADES</th>\n    </tr>\n  </thead>\n  <tbody>\n    <tr>\n      <th>2486</th>\n      <td>1000050454</td>\n      <td>YERBA COMPUESTA LA SELVA 1 KG</td>\n      <td>79.0</td>\n    </tr>\n  </tbody>\n</table>\n</div>"
     },
     "execution_count": 14,
     "metadata": {},
     "output_type": "execute_result"
    }
   ],
   "source": [
    "un_promo_merged_2[un_promo_merged_2['ORIN'] == '1000050454']"
   ],
   "metadata": {
    "collapsed": false
   }
  },
  {
   "cell_type": "code",
   "execution_count": null,
   "outputs": [],
   "source": [
    "un_promo_merged_2['FECHA_ACTUALIZACION'] = datetime.today().strftime('%Y-%m-%d')"
   ],
   "metadata": {
    "collapsed": false
   }
  },
  {
   "cell_type": "code",
   "execution_count": 15,
   "outputs": [],
   "source": [
    "# 9. FT Stock ayer: stock y precio de lista\n",
    "\n",
    "cursor.execute(ft_stock_ayer_query)\n",
    "stock_ayer = cursor.fetch_pandas_all()\n",
    "stock_ayer['FECHA_ACTUALIZACION'] = datetime.today().strftime('%Y-%m-%d')"
   ],
   "metadata": {
    "collapsed": false
   }
  },
  {
   "cell_type": "code",
   "execution_count": 16,
   "outputs": [],
   "source": [
    "# 10. Pack Size\n",
    "\n",
    "cursor.execute(pack_size)\n",
    "pack_size_df = cursor.fetch_pandas_all()\n",
    "pack_size_df['FECHA_ACTUALIZACION'] = datetime.today().strftime('%Y-%m-%d')"
   ],
   "metadata": {
    "collapsed": false
   }
  },
  {
   "cell_type": "code",
   "execution_count": 5,
   "outputs": [
    {
     "data": {
      "text/plain": "         ORIN  ACELERACION\n7  1000025732     4.959156",
      "text/html": "<div>\n<style scoped>\n    .dataframe tbody tr th:only-of-type {\n        vertical-align: middle;\n    }\n\n    .dataframe tbody tr th {\n        vertical-align: top;\n    }\n\n    .dataframe thead th {\n        text-align: right;\n    }\n</style>\n<table border=\"1\" class=\"dataframe\">\n  <thead>\n    <tr style=\"text-align: right;\">\n      <th></th>\n      <th>ORIN</th>\n      <th>ACELERACION</th>\n    </tr>\n  </thead>\n  <tbody>\n    <tr>\n      <th>7</th>\n      <td>1000025732</td>\n      <td>4.959156</td>\n    </tr>\n  </tbody>\n</table>\n</div>"
     },
     "execution_count": 5,
     "metadata": {},
     "output_type": "execute_result"
    }
   ],
   "source": [
    "# 11. Aceleracion\n",
    "\n",
    "cursor.execute(aceleracion)\n",
    "aceleracion_df = cursor.fetch_pandas_all()\n",
    "aceleracion_df.head(2)\n",
    "\n",
    "aceleracion_df = aceleracion_df[['ORIN', 'ACELERACION', 'EVENTO_DESC', 'PROM_FECHA_FIN']].drop_duplicates()\n",
    "aceleracion_df = aceleracion_df[~aceleracion_df['EVENTO_DESC'].str.lower().str.contains(pat='Liquidac', case=False)]\n",
    "aceleracion_df = aceleracion_df[~aceleracion_df['ACELERACION'].isna()]\n",
    "aceleracion_df['PROM_FECHA_FIN'] = pd.to_datetime(aceleracion_df['PROM_FECHA_FIN'])\n",
    "\n",
    "aceleracion_df['R'] = aceleracion_df.groupby('ORIN')['PROM_FECHA_FIN'].rank(method='min', ascending=False)\n",
    "aceleracion_df = aceleracion_df[aceleracion_df['R'] <= 3]\n",
    "\n",
    "aceleracion_grouped = aceleracion_df.groupby(['ORIN'])['ACELERACION'].median().reset_index()\n",
    "aceleracion_grouped[aceleracion_grouped['ORIN'] == '1000025732']"
   ],
   "metadata": {
    "collapsed": false
   }
  },
  {
   "cell_type": "code",
   "execution_count": 18,
   "outputs": [],
   "source": [
    "# Nuevo approach - consolido todo en una unica hoja"
   ],
   "metadata": {
    "collapsed": false
   }
  },
  {
   "cell_type": "code",
   "execution_count": 32,
   "outputs": [
    {
     "name": "stdout",
     "output_type": "stream",
     "text": [
      "33736\n"
     ]
    },
    {
     "data": {
      "text/plain": "         ORIN  OPT_AVG_PRECIO_COMPETENCIA  LOCALES_ACTIVOS_AYER\n0  1000000125                         NaN                  32.0\n1  1000000126                         NaN                  32.0",
      "text/html": "<div>\n<style scoped>\n    .dataframe tbody tr th:only-of-type {\n        vertical-align: middle;\n    }\n\n    .dataframe tbody tr th {\n        vertical-align: top;\n    }\n\n    .dataframe thead th {\n        text-align: right;\n    }\n</style>\n<table border=\"1\" class=\"dataframe\">\n  <thead>\n    <tr style=\"text-align: right;\">\n      <th></th>\n      <th>ORIN</th>\n      <th>OPT_AVG_PRECIO_COMPETENCIA</th>\n      <th>LOCALES_ACTIVOS_AYER</th>\n    </tr>\n  </thead>\n  <tbody>\n    <tr>\n      <th>0</th>\n      <td>1000000125</td>\n      <td>NaN</td>\n      <td>32.0</td>\n    </tr>\n    <tr>\n      <th>1</th>\n      <td>1000000126</td>\n      <td>NaN</td>\n      <td>32.0</td>\n    </tr>\n  </tbody>\n</table>\n</div>"
     },
     "execution_count": 32,
     "metadata": {},
     "output_type": "execute_result"
    }
   ],
   "source": [
    "# #df_final\n",
    "# # df_precios_oferta --> no considerar\n",
    "# df_final = df_opt.drop(['FECHA_ACTUALIZACION'], axis=1).rename({'AVG_PRECIO_COMPETENCIA':'OPT_AVG_PRECIO_COMPETENCIA'}, axis=1).merge(df_locales_activos_ayer.drop(['FECHA_ACTUALIZACION'], axis=1), how='outer')\n",
    "# print(len(df_final))\n",
    "# df_final.head(2)"
   ],
   "metadata": {
    "collapsed": false
   }
  },
  {
   "cell_type": "code",
   "execution_count": null,
   "outputs": [],
   "source": [],
   "metadata": {
    "collapsed": false
   }
  },
  {
   "cell_type": "code",
   "execution_count": null,
   "outputs": [],
   "source": [
    "dataframes_dict = {\n",
    "    'df_precios_oferta': 'Precios Oferta',\n",
    "    #'df_precios_stock_mediano': 'Precios Stock Mediano', --> cayo en desuso\n",
    "    'df_opt': 'OPT',\n",
    "    'df_locales_activos_ayer': 'Locales Activos Ayer',\n",
    "\n",
    "    'df_days_on_hand_articulo': 'Days on Hand - Articulos',\n",
    "    'top_3':'Top 5 articulos',\n",
    "    'un_regular_2':'Venta Regular - Unidades Promedio',\n",
    "    'un_promo_2':'Venta Promo - Unidades Promedio',\n",
    "    'stock_ayer':'Stock Ayer',\n",
    "    'pack_size_df':'Pack Size',\n",
    "    'aceleracion_grouped':'Aceleracion'\n",
    "}\n",
    "\n",
    "for df_name, sheet_name in dataframes_dict.items():\n",
    "    print(df_name, len(locals()[df_name]))"
   ],
   "metadata": {
    "collapsed": false
   }
  },
  {
   "cell_type": "code",
   "execution_count": null,
   "outputs": [],
   "source": [
    "# Google Sheets\n",
    "\n",
    "drive_credentials=get_credentials_drive()\n",
    "\n",
    "# Unidad Inteligencia de Negocio\n",
    "#url = 'https://docs.google.com/spreadsheets/d/1hqkPO6ych3MT3oJVFUkk9nBEvyhIcARPaVF86uFMPJ0/edit#gid=0'\n",
    "#url = 'https://docs.google.com/spreadsheets/d/1w5oGifgavq1GodX3z9t9UF8ALeOl6NzMWiu_4xPG8FE/edit?usp=sharing'\n",
    "\n",
    "\n",
    "url = 'https://docs.google.com/spreadsheets/d/1w5oGifgavq1GodX3z9t9UF8ALeOl6NzMWiu_4xPG8FE/edit'\n",
    "\n",
    "spreadsheet_id = url.split('/')[-2]\n",
    "\n",
    "# Create a Google Sheets API service --> esto se usa en caso de usar la funcion 2\n",
    "service = build('sheets', 'v4', credentials=drive_credentials)\n",
    "\n",
    "# Create sheets and insert the DataFrames\n",
    "\n",
    "dataframes_dict = {\n",
    "    'df_precios_oferta': 'Precios Oferta',\n",
    "    #'df_precios_stock_mediano': 'Precios Stock Mediano', --> cayo en desuso\n",
    "    'df_opt': 'OPT',\n",
    "    'df_locales_activos_ayer': 'Locales Activos Ayer',\n",
    "    'df_days_on_hand_articulo': 'Days on Hand - Articulos',\n",
    "    'top_3':'Top 5 articulos',\n",
    "    'un_regular_2':'Venta Regular - Unidades Promedio',\n",
    "    'un_promo_2':'Venta Promo - Unidades Promedio',\n",
    "    'stock_ayer':'Stock Ayer',\n",
    "    'pack_size_df':'Pack Size',\n",
    "    'aceleracion_grouped':'Aceleracion'\n",
    "}\n",
    "\n",
    "for df_name, sheet_name in dataframes_dict.items():\n",
    "\n",
    "    # Elimino la primera sheet\n",
    "    delete_first_sheet(spreadsheet_id, drive_credentials)\n",
    "\n",
    "    df = locals()[df_name]  # Retrieve the DataFrame using its name\n",
    "    #print(f\"Procesando sheet: {sheet_name}\")\n",
    "\n",
    "    # Inserto la DataFrame en una nueva sheet, que ocupa la ultima posicion\n",
    "    insert_dataframe_into_sheet(df, spreadsheet_id, drive_credentials, sheet_name)\n",
    "\n",
    "print('Termina carga_sheet_promos')\n"
   ],
   "metadata": {
    "collapsed": false
   }
  },
  {
   "cell_type": "code",
   "execution_count": null,
   "outputs": [],
   "source": [],
   "metadata": {
    "collapsed": false
   }
  },
  {
   "cell_type": "code",
   "execution_count": null,
   "outputs": [],
   "source": [],
   "metadata": {
    "collapsed": false
   }
  },
  {
   "cell_type": "code",
   "execution_count": null,
   "outputs": [],
   "source": [],
   "metadata": {
    "collapsed": false
   }
  }
 ],
 "metadata": {
  "kernelspec": {
   "display_name": "Python 3",
   "language": "python",
   "name": "python3"
  },
  "language_info": {
   "codemirror_mode": {
    "name": "ipython",
    "version": 2
   },
   "file_extension": ".py",
   "mimetype": "text/x-python",
   "name": "python",
   "nbconvert_exporter": "python",
   "pygments_lexer": "ipython2",
   "version": "2.7.6"
  }
 },
 "nbformat": 4,
 "nbformat_minor": 0
}

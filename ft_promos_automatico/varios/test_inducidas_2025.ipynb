{
 "cells": [
  {
   "cell_type": "code",
   "execution_count": 48,
   "metadata": {
    "collapsed": true
   },
   "outputs": [],
   "source": [
    "import sys\n",
    "import polars as pl\n",
    "import numpy as np\n",
    "import pandas as pd\n",
    "import snowflake.connector\n",
    "import json\n",
    "from datetime import datetime, timedelta\n",
    "import os\n",
    "import re\n",
    "from snowflake.connector.pandas_tools import write_pandas\n",
    "import gspread\n",
    "from gspread_dataframe import get_as_dataframe, set_with_dataframe\n",
    "from google.oauth2.service_account import Credentials\n",
    "from pydrive.auth import GoogleAuth\n",
    "from pydrive.drive import GoogleDrive\n",
    "from dateutil.relativedelta import relativedelta\n",
    "from pandas.tseries.offsets import MonthEnd"
   ]
  },
  {
   "cell_type": "code",
   "execution_count": 49,
   "outputs": [
    {
     "name": "stdout",
     "output_type": "stream",
     "text": [
      "Intento 1\n",
      "Correct Password - connected to SNOWFLAKE\n"
     ]
    }
   ],
   "source": [
    "counter = 0\n",
    "while True:\n",
    "    print(f\"Intento {counter + 1}\")\n",
    "    if counter < 4:\n",
    "        try:\n",
    "            with open('credentials.json') as f:\n",
    "                data_pass = json.load(f)\n",
    "\n",
    "            pass_ = input(\"INGRESAR PASSCODE:\")\n",
    "\n",
    "            snowflake_connection = snowflake.connector.connect(\n",
    "                user=data_pass['snow']['USER'],\n",
    "                password=data_pass['snow']['PASS'],\n",
    "                account=data_pass['snow']['ACCOUNT'],\n",
    "                passcode=pass_,\n",
    "                database='SANDBOX_PLUS',\n",
    "                schema='DWH'\n",
    "            )\n",
    "\n",
    "            cursor = snowflake_connection.cursor()\n",
    "\n",
    "            print('Correct Password - connected to SNOWFLAKE')\n",
    "\n",
    "            break\n",
    "\n",
    "        except FileNotFoundError:\n",
    "            print(\"Error: 'credentials.json' file not found.\")\n",
    "            break\n",
    "        except json.JSONDecodeError:\n",
    "            print(\"Error: 'credentials.json' file is not valid JSON.\")\n",
    "            break\n",
    "        except Exception as e:\n",
    "            counter += 1\n",
    "            print(f'Error: {e}')\n",
    "            print('Incorrect Password - provide again')\n",
    "\n",
    "    else:\n",
    "        print('3 Intentos fallidos')\n",
    "        break"
   ],
   "metadata": {
    "collapsed": false
   }
  },
  {
   "cell_type": "code",
   "execution_count": 50,
   "outputs": [],
   "source": [
    "# mangold-cuenta-servicio@projecto-promos.iam.gserviceaccount.com\n",
    "\n",
    "scopes = ['https://www.googleapis.com/auth/spreadsheets',\n",
    "          'https://www.googleapis.com/auth/drive']\n",
    "\n",
    "credentials = Credentials.from_service_account_file('C:\\\\Users\\\\leonardo.mangold\\\\PycharmProjects\\\\promos_inteligencia_negocio\\\\ft_promos_automatico\\\\leo_usuario_servicio_credenciales.json', scopes=scopes)\n",
    "\n",
    "gc = gspread.authorize(credentials)\n",
    "\n",
    "gauth = GoogleAuth()\n",
    "drive = GoogleDrive(gauth)"
   ],
   "metadata": {
    "collapsed": false
   }
  },
  {
   "cell_type": "code",
   "execution_count": 51,
   "outputs": [
    {
     "data": {
      "text/plain": "    AÑO    MES ESTADISTICO        Item      DESCRIPCIÓN UNIDADES TOTALES  \\\n0  2025  Enero   262366000  1000524344      Oblea limon           33,000   \n1  2025  Enero   262365000  1000524343  Oblea chocolate           58,000   \n\n  UNIDADES CERCANIAS LOCALES INVOLUCRADOS Costo (para emitir compra)  \\\n0              4,600                TODOS                       14.9   \n1             12,000                TODOS                       14.9   \n\n  PRECIO DE VENTA  ...   Valorizado PROMO Num OC (Compra 1) Unds  \\\n0              25  ...        $491,700.00                          \n1              25  ...        $864,200.00                          \n\n  Num OC (Compra 2) Unds Total Valorizado compras Venta  \\\n0                                                         \n1                                                         \n\n  Peso de venta sobre estimado  \n0                               \n1                               \n\n[2 rows x 21 columns]",
      "text/html": "<div>\n<style scoped>\n    .dataframe tbody tr th:only-of-type {\n        vertical-align: middle;\n    }\n\n    .dataframe tbody tr th {\n        vertical-align: top;\n    }\n\n    .dataframe thead th {\n        text-align: right;\n    }\n</style>\n<table border=\"1\" class=\"dataframe\">\n  <thead>\n    <tr style=\"text-align: right;\">\n      <th></th>\n      <th>AÑO</th>\n      <th>MES</th>\n      <th>ESTADISTICO</th>\n      <th>Item</th>\n      <th>DESCRIPCIÓN</th>\n      <th>UNIDADES TOTALES</th>\n      <th>UNIDADES CERCANIAS</th>\n      <th>LOCALES INVOLUCRADOS</th>\n      <th>Costo (para emitir compra)</th>\n      <th>PRECIO DE VENTA</th>\n      <th>...</th>\n      <th></th>\n      <th>Valorizado PROMO</th>\n      <th>Num OC (Compra 1)</th>\n      <th>Unds</th>\n      <th>Num OC (Compra 2)</th>\n      <th>Unds</th>\n      <th>Total</th>\n      <th>Valorizado compras</th>\n      <th>Venta</th>\n      <th>Peso de venta sobre estimado</th>\n    </tr>\n  </thead>\n  <tbody>\n    <tr>\n      <th>0</th>\n      <td>2025</td>\n      <td>Enero</td>\n      <td>262366000</td>\n      <td>1000524344</td>\n      <td>Oblea limon</td>\n      <td>33,000</td>\n      <td>4,600</td>\n      <td>TODOS</td>\n      <td>14.9</td>\n      <td>25</td>\n      <td>...</td>\n      <td></td>\n      <td>$491,700.00</td>\n      <td></td>\n      <td></td>\n      <td></td>\n      <td></td>\n      <td></td>\n      <td></td>\n      <td></td>\n      <td></td>\n    </tr>\n    <tr>\n      <th>1</th>\n      <td>2025</td>\n      <td>Enero</td>\n      <td>262365000</td>\n      <td>1000524343</td>\n      <td>Oblea chocolate</td>\n      <td>58,000</td>\n      <td>12,000</td>\n      <td>TODOS</td>\n      <td>14.9</td>\n      <td>25</td>\n      <td>...</td>\n      <td></td>\n      <td>$864,200.00</td>\n      <td></td>\n      <td></td>\n      <td></td>\n      <td></td>\n      <td></td>\n      <td></td>\n      <td></td>\n      <td></td>\n    </tr>\n  </tbody>\n</table>\n<p>2 rows × 21 columns</p>\n</div>"
     },
     "execution_count": 51,
     "metadata": {},
     "output_type": "execute_result"
    }
   ],
   "source": [
    "url = 'https://docs.google.com/spreadsheets/d/1sZet9eBzOmokS1wBMw3lT46xJQQIWdO-fMk50toKV7A/edit#gid=775311320'\n",
    "inducidas_google_drive = gc.open_by_url(url)\n",
    "\n",
    "worksheet_1 = inducidas_google_drive.worksheet('Inducidas 2025 en adelante')\n",
    "\n",
    "data = worksheet_1.get_all_values()\n",
    "\n",
    "inducidas = pd.DataFrame(data[1:], columns=data[0])\n",
    "inducidas.columns = [column.split('\\n')[0] for column in inducidas.columns]\n",
    "\n",
    "# AÑO / MES / /Item / PRECIO DE VENTA\n",
    "inducidas.head(2)"
   ],
   "metadata": {
    "collapsed": false
   }
  },
  {
   "cell_type": "code",
   "execution_count": 52,
   "outputs": [
    {
     "name": "stderr",
     "output_type": "stream",
     "text": [
      "C:\\Users\\leonardo.mangold\\AppData\\Local\\Temp\\ipykernel_5408\\3522122837.py:63: FutureWarning: A value is trying to be set on a copy of a DataFrame or Series through chained assignment using an inplace method.\n",
      "The behavior will change in pandas 3.0. This inplace method will never work because the intermediate object on which we are setting values always behaves as a copy.\n",
      "\n",
      "For example, when doing 'df[col].method(value, inplace=True)', try using 'df.method({col: value}, inplace=True)' or df[col] = df[col].method(value) instead, to perform the operation inplace on the original object.\n",
      "\n",
      "\n",
      "  inducidas['PROM_PVP_OFERTA'].fillna(0, inplace=True)\n"
     ]
    },
    {
     "data": {
      "text/plain": "  PROM_FECHA_INICIO PROM_FECHA_FIN  EVENTO_ID PROM_PVP_OFERTA        ORIN\n0        01/01/2025     31/01/2025       2463              25  1000524344\n1        01/01/2025     31/01/2025       2463              25  1000524343\n2        01/01/2025     31/01/2025       2463              25  1000524342\n3        01/01/2025     31/01/2025       2463              25  1000524341\n4        01/01/2025     31/01/2025       2463              25  1000524340",
      "text/html": "<div>\n<style scoped>\n    .dataframe tbody tr th:only-of-type {\n        vertical-align: middle;\n    }\n\n    .dataframe tbody tr th {\n        vertical-align: top;\n    }\n\n    .dataframe thead th {\n        text-align: right;\n    }\n</style>\n<table border=\"1\" class=\"dataframe\">\n  <thead>\n    <tr style=\"text-align: right;\">\n      <th></th>\n      <th>PROM_FECHA_INICIO</th>\n      <th>PROM_FECHA_FIN</th>\n      <th>EVENTO_ID</th>\n      <th>PROM_PVP_OFERTA</th>\n      <th>ORIN</th>\n    </tr>\n  </thead>\n  <tbody>\n    <tr>\n      <th>0</th>\n      <td>01/01/2025</td>\n      <td>31/01/2025</td>\n      <td>2463</td>\n      <td>25</td>\n      <td>1000524344</td>\n    </tr>\n    <tr>\n      <th>1</th>\n      <td>01/01/2025</td>\n      <td>31/01/2025</td>\n      <td>2463</td>\n      <td>25</td>\n      <td>1000524343</td>\n    </tr>\n    <tr>\n      <th>2</th>\n      <td>01/01/2025</td>\n      <td>31/01/2025</td>\n      <td>2463</td>\n      <td>25</td>\n      <td>1000524342</td>\n    </tr>\n    <tr>\n      <th>3</th>\n      <td>01/01/2025</td>\n      <td>31/01/2025</td>\n      <td>2463</td>\n      <td>25</td>\n      <td>1000524341</td>\n    </tr>\n    <tr>\n      <th>4</th>\n      <td>01/01/2025</td>\n      <td>31/01/2025</td>\n      <td>2463</td>\n      <td>25</td>\n      <td>1000524340</td>\n    </tr>\n  </tbody>\n</table>\n</div>"
     },
     "execution_count": 52,
     "metadata": {},
     "output_type": "execute_result"
    }
   ],
   "source": [
    "inducidas = inducidas[inducidas['Item'] != '']\n",
    "inducidas = inducidas[inducidas['Item'] != '-']\n",
    "inducidas['Item'] = list(map(lambda x: str(x).replace(' ', ''), inducidas['Item']))\n",
    "inducidas['Item'] = inducidas['Item'].map(lambda x: str(x).strip())\n",
    "\n",
    "month_dict = {\n",
    "    'Enero': 1, 'Febrero': 2, 'Marzo': 3, 'Abril': 4,\n",
    "    'Mayo': 5, 'Junio': 6, 'Julio': 7, 'Agosto': 8,\n",
    "    'Septiembre': 9, 'Octubre': 10, 'Noviembre': 11, 'Diciembre': 12\n",
    "}\n",
    "\n",
    "inducidas['PROM_FECHA_INICIO'] = inducidas.apply(lambda row: pd.Timestamp(f'{row[\"AÑO\"]}-{month_dict[row[\"MES\"]]}-01'), axis=1)\n",
    "\n",
    "inducidas['PROM_FECHA_FIN'] = inducidas['PROM_FECHA_INICIO'] + MonthEnd(0)\n",
    "\n",
    "inducidas\n",
    "\n",
    "fecha_eventos_dict = {\n",
    "        2168: '2024-01-01',\n",
    "        2217: '2024-02-01',\n",
    "        2236: '2024-03-01',\n",
    "        2252: '2024-04-01',\n",
    "        2271: '2024-05-01',\n",
    "        2292: '2024-06-01',\n",
    "        2293: '2024-07-01',\n",
    "        2294: '2024-08-01',\n",
    "        2295: '2024-09-01',\n",
    "        2296: '2024-10-01',\n",
    "        2297: '2024-11-01',\n",
    "        2298: '2024-12-01',\n",
    "        2463: '2025-01-01',\n",
    "        2464: '2025-02-01',\n",
    "        2465: '2025-03-01',\n",
    "        2466: '2025-04-01',\n",
    "        2467: '2025-05-01',\n",
    "        2468: '2025-06-01',\n",
    "        2469: '2025-07-01',\n",
    "        2470: '2025-08-01',\n",
    "        2471: '2025-09-01',\n",
    "        2472: '2025-10-01',\n",
    "        2473: '2025-11-01',\n",
    "        2474: '2025-12-01'\n",
    "\n",
    "    }\n",
    "fecha_eventos_dict_reversed = {v: k for k, v in fecha_eventos_dict.items()}\n",
    "fecha_eventos_df = pd.DataFrame(list(fecha_eventos_dict_reversed.items()), columns=['PROM_FECHA_INICIO', 'EVENTO_ID'])\n",
    "\n",
    "inducidas['PROM_FECHA_INICIO'] = pd.to_datetime(inducidas['PROM_FECHA_INICIO'])\n",
    "fecha_eventos_df['PROM_FECHA_INICIO'] = pd.to_datetime(fecha_eventos_df['PROM_FECHA_INICIO'])\n",
    "\n",
    "inducidas = inducidas.merge(fecha_eventos_df, on = 'PROM_FECHA_INICIO', how = 'inner')\n",
    "\n",
    "inducidas['PROM_FECHA_INICIO'] = inducidas['PROM_FECHA_INICIO'].dt.strftime('%d/%m/%Y')\n",
    "inducidas['PROM_FECHA_FIN'] = inducidas['PROM_FECHA_FIN'].dt.strftime('%d/%m/%Y')\n",
    "\n",
    "inducidas = inducidas[['PROM_FECHA_INICIO', 'PROM_FECHA_FIN', 'EVENTO_ID', 'PRECIO DE VENTA', 'Item']]\n",
    "\n",
    "inducidas.rename({\n",
    "    'Item':'ORIN',\n",
    "    'PRECIO DE VENTA':'PROM_PVP_OFERTA'\n",
    "    }, axis=1, inplace=True)\n",
    "\n",
    "inducidas['PROM_PVP_OFERTA'].fillna(0, inplace=True)\n",
    "\n",
    "inducidas.dropna(inplace=True)\n",
    "\n",
    "inducidas"
   ],
   "metadata": {
    "collapsed": false
   }
  },
  {
   "cell_type": "code",
   "execution_count": 53,
   "outputs": [],
   "source": [
    "query = '''\n",
    "WITH CTE_1 AS (\n",
    "    SELECT\n",
    "        LGL.GEOG_LOCL_COD\n",
    "    FROM\n",
    "        MSTRDB.DWH.LU_GEOG_LOCAL AS LGL\n",
    "        LEFT JOIN MSTRDB.DWH.LU_GEOG_TIPO_LOCAL AS LGTL ON LGTL.GEOG_TLOC_ID = LGL.GEOG_TLOC_ID\n",
    "    WHERE\n",
    "        LGL.GEOG_UNNG_ID = 2\n",
    "        AND LGL.GEOG_LOCL_COD NOT IN (196, 197, 198)\n",
    ")\n",
    "\n",
    "SELECT\n",
    "    DISTINCT\n",
    "    '{inicio_snow}' AS PROM_FECHA_INICIO,\n",
    "    '{fin_snow}' AS PROM_FECHA_FIN,\n",
    "    LAA.ARTC_ARTC_ID,\n",
    "    LGL.GEOG_LOCL_ID,\n",
    "    0 AS PRONOSTICO_VENTA,\n",
    "    0 AS STOCK_INICIAL_PROMO,\n",
    "    {evento_id_snow} AS EVENTO_ID,\n",
    "    {precio_oferta_snow} AS PROM_PVP_OFERTA,\n",
    "    0 AS PROM_LOCAL_ACTIVO,\n",
    "    0 AS PROM_ESTIBA\n",
    "FROM\n",
    "    MSTRDB.DWH.FT_STOCK AS FS\n",
    "    INNER JOIN MSTRDB.DWH.LU_ARTC_ARTICULO AS LAA ON FS.ARTC_ARTC_ID = LAA.ARTC_ARTC_ID\n",
    "    INNER JOIN MSTRDB.DWH.LU_GEOG_LOCAL AS LGL ON LGL.GEOG_LOCL_ID = FS.GEOG_LOCL_ID\n",
    "WHERE\n",
    "    LGL.GEOG_LOCL_COD IN (SELECT * FROM CTE_1)\n",
    "    AND FS.TIEM_DIA_ID = CURRENT_DATE() - 1\n",
    "    AND LAA.ORIN = '{orines_snow}'\n",
    "'''\n",
    "\n",
    "carga_inducidas = pd.DataFrame()\n",
    "\n",
    "for orin, precio_oferta, inicio, fin, evento_id in zip(\n",
    "    inducidas['ORIN'],\n",
    "    inducidas['PROM_PVP_OFERTA'],\n",
    "    inducidas['PROM_FECHA_INICIO'],\n",
    "    inducidas['PROM_FECHA_FIN'],\n",
    "    inducidas['EVENTO_ID']\n",
    "        ):\n",
    "\n",
    "    cursor.execute(query.format(\n",
    "        precio_oferta_snow=precio_oferta,\n",
    "        orines_snow=orin,\n",
    "        inicio_snow=inicio,\n",
    "        fin_snow=fin,\n",
    "        evento_id_snow=evento_id\n",
    "    ))\n",
    "\n",
    "    df_aux = cursor.fetch_pandas_all()\n",
    "\n",
    "    carga_inducidas = pd.concat([carga_inducidas, df_aux])\n",
    "\n",
    "carga_inducidas_excel = carga_inducidas.copy(deep = True)"
   ],
   "metadata": {
    "collapsed": false
   }
  },
  {
   "cell_type": "code",
   "execution_count": 54,
   "outputs": [
    {
     "data": {
      "text/plain": "PROM_FECHA_INICIO      object\nPROM_FECHA_FIN         object\nARTC_ARTC_ID            int32\nGEOG_LOCL_ID            int16\nPRONOSTICO_VENTA         int8\nSTOCK_INICIAL_PROMO      int8\nEVENTO_ID               int16\nPROM_PVP_OFERTA          int8\nPROM_LOCAL_ACTIVO        int8\nPROM_ESTIBA              int8\ndtype: object"
     },
     "execution_count": 54,
     "metadata": {},
     "output_type": "execute_result"
    }
   ],
   "source": [
    "carga_inducidas_excel.head(2)\n",
    "carga_inducidas_excel.dtypes"
   ],
   "metadata": {
    "collapsed": false
   }
  },
  {
   "cell_type": "code",
   "execution_count": 55,
   "outputs": [
    {
     "name": "stderr",
     "output_type": "stream",
     "text": [
      "C:\\Users\\leonardo.mangold\\AppData\\Local\\Temp\\ipykernel_5408\\1536981928.py:2: UserWarning: Parsing dates in %d/%m/%Y format when dayfirst=False (the default) was specified. Pass `dayfirst=True` or specify a format to silence this warning.\n",
      "  carga_inducidas_excel['PROM_FECHA_FIN'] = pd.to_datetime(carga_inducidas_excel['PROM_FECHA_FIN']).dt.strftime('%Y-%m-%d')\n"
     ]
    },
    {
     "name": "stdout",
     "output_type": "stream",
     "text": [
      "Termina descargar_inducidas\n"
     ]
    }
   ],
   "source": [
    "carga_inducidas_excel['PROM_FECHA_INICIO'] = pd.to_datetime(carga_inducidas_excel['PROM_FECHA_INICIO']).dt.strftime('%Y-%m-%d')\n",
    "carga_inducidas_excel['PROM_FECHA_FIN'] = pd.to_datetime(carga_inducidas_excel['PROM_FECHA_FIN']).dt.strftime('%Y-%m-%d')\n",
    "\n",
    "# Function to format dates\n",
    "def format_date(date_str):\n",
    "    date_obj = datetime.strptime(date_str, \"%Y-%m-%d\")\n",
    "    return f\"{date_obj.month}/{date_obj.day}/{date_obj.year}\"\n",
    "\n",
    "# List of columns to apply the formatting\n",
    "date_columns = ['PROM_FECHA_INICIO', 'PROM_FECHA_FIN']\n",
    "\n",
    "# Apply the formatting function to each column\n",
    "for col in date_columns:\n",
    "    carga_inducidas_excel[col] = carga_inducidas_excel[col].apply(format_date)\n",
    "\n",
    "query = '''\n",
    "SELECT\n",
    "    GEOG_LOCL_ID,\n",
    "    GEOG_LOCL_COD\n",
    "FROM\n",
    "    MSTRDB.DWH.LU_GEOG_LOCAL\n",
    "'''\n",
    "\n",
    "cursor.execute(query)\n",
    "local_snow = cursor.fetch_pandas_all()\n",
    "\n",
    "carga_inducidas_excel = carga_inducidas_excel.merge(local_snow, on='GEOG_LOCL_ID', how='inner')\n",
    "\n",
    "query = '''\n",
    "SELECT\n",
    "    ARTC_ARTC_ID,\n",
    "    ARTC_ARTC_COD\n",
    "FROM\n",
    "    MSTRDB.DWH.LU_ARTC_ARTICULO\n",
    "'''\n",
    "\n",
    "cursor.execute(query)\n",
    "articulo_snow = cursor.fetch_pandas_all()\n",
    "\n",
    "carga_inducidas_excel = carga_inducidas_excel.merge(articulo_snow, on='ARTC_ARTC_ID', how='inner')\n",
    "\n",
    "carga_inducidas_excel = carga_inducidas_excel[\n",
    "    pd.to_datetime(carga_inducidas_excel['PROM_FECHA_INICIO']) > datetime.today().replace(day=1) - relativedelta(days=1)\n",
    "]\n",
    "\n",
    "carga_inducidas_excel[[\n",
    "    'PROM_FECHA_INICIO',\n",
    "    'PROM_FECHA_FIN',\n",
    "    'ARTC_ARTC_COD',\n",
    "    'EVENTO_ID',\n",
    "    'PRONOSTICO_VENTA',\n",
    "    'STOCK_INICIAL_PROMO',\n",
    "    'GEOG_LOCL_COD',\n",
    "    'PROM_PVP_OFERTA',\n",
    "    'PROM_LOCAL_ACTIVO',\n",
    "    'PROM_ESTIBA'\n",
    "]].to_excel(f\"Cargar en Excel BI\\\\Inducidas - {datetime.today().strftime('%Y-%m-%d')}.xlsx\", index=False)\n",
    "\n",
    "print('Termina descargar_inducidas')"
   ],
   "metadata": {
    "collapsed": false
   }
  },
  {
   "cell_type": "code",
   "execution_count": 57,
   "outputs": [
    {
     "data": {
      "text/plain": "    PROM_FECHA_INICIO PROM_FECHA_FIN  ARTC_ARTC_ID  GEOG_LOCL_ID  \\\n0            1/1/2025      1/31/2025       9358508             9   \n1            1/1/2025      1/31/2025       9358508            12   \n2            1/1/2025      1/31/2025       9358508            16   \n3            1/1/2025      1/31/2025       9358508            84   \n4            1/1/2025      1/31/2025       9358508            85   \n..                ...            ...           ...           ...   \n422          1/1/2025      1/31/2025       9358504           140   \n423          1/1/2025      1/31/2025       9358504            77   \n424          1/1/2025      1/31/2025       9358504            78   \n425          1/1/2025      1/31/2025       9358504           222   \n426          1/1/2025      1/31/2025       9358504            69   \n\n     PRONOSTICO_VENTA  STOCK_INICIAL_PROMO  EVENTO_ID  PROM_PVP_OFERTA  \\\n0                   0                    0       2463               25   \n1                   0                    0       2463               25   \n2                   0                    0       2463               25   \n3                   0                    0       2463               25   \n4                   0                    0       2463               25   \n..                ...                  ...        ...              ...   \n422                 0                    0       2463               25   \n423                 0                    0       2463               25   \n424                 0                    0       2463               25   \n425                 0                    0       2463               25   \n426                 0                    0       2463               25   \n\n     PROM_LOCAL_ACTIVO  PROM_ESTIBA GEOG_LOCL_COD ARTC_ARTC_COD  \n0                    0            0           134     262366000  \n1                    0            0           143     262366000  \n2                    0            0           147     262366000  \n3                    0            0           317     262366000  \n4                    0            0           318     262366000  \n..                 ...          ...           ...           ...  \n422                  0            0           163     262362000  \n423                  0            0           310     262362000  \n424                  0            0           311     262362000  \n425                  0            0           165     262362000  \n426                  0            0           302     262362000  \n\n[427 rows x 12 columns]",
      "text/html": "<div>\n<style scoped>\n    .dataframe tbody tr th:only-of-type {\n        vertical-align: middle;\n    }\n\n    .dataframe tbody tr th {\n        vertical-align: top;\n    }\n\n    .dataframe thead th {\n        text-align: right;\n    }\n</style>\n<table border=\"1\" class=\"dataframe\">\n  <thead>\n    <tr style=\"text-align: right;\">\n      <th></th>\n      <th>PROM_FECHA_INICIO</th>\n      <th>PROM_FECHA_FIN</th>\n      <th>ARTC_ARTC_ID</th>\n      <th>GEOG_LOCL_ID</th>\n      <th>PRONOSTICO_VENTA</th>\n      <th>STOCK_INICIAL_PROMO</th>\n      <th>EVENTO_ID</th>\n      <th>PROM_PVP_OFERTA</th>\n      <th>PROM_LOCAL_ACTIVO</th>\n      <th>PROM_ESTIBA</th>\n      <th>GEOG_LOCL_COD</th>\n      <th>ARTC_ARTC_COD</th>\n    </tr>\n  </thead>\n  <tbody>\n    <tr>\n      <th>0</th>\n      <td>1/1/2025</td>\n      <td>1/31/2025</td>\n      <td>9358508</td>\n      <td>9</td>\n      <td>0</td>\n      <td>0</td>\n      <td>2463</td>\n      <td>25</td>\n      <td>0</td>\n      <td>0</td>\n      <td>134</td>\n      <td>262366000</td>\n    </tr>\n    <tr>\n      <th>1</th>\n      <td>1/1/2025</td>\n      <td>1/31/2025</td>\n      <td>9358508</td>\n      <td>12</td>\n      <td>0</td>\n      <td>0</td>\n      <td>2463</td>\n      <td>25</td>\n      <td>0</td>\n      <td>0</td>\n      <td>143</td>\n      <td>262366000</td>\n    </tr>\n    <tr>\n      <th>2</th>\n      <td>1/1/2025</td>\n      <td>1/31/2025</td>\n      <td>9358508</td>\n      <td>16</td>\n      <td>0</td>\n      <td>0</td>\n      <td>2463</td>\n      <td>25</td>\n      <td>0</td>\n      <td>0</td>\n      <td>147</td>\n      <td>262366000</td>\n    </tr>\n    <tr>\n      <th>3</th>\n      <td>1/1/2025</td>\n      <td>1/31/2025</td>\n      <td>9358508</td>\n      <td>84</td>\n      <td>0</td>\n      <td>0</td>\n      <td>2463</td>\n      <td>25</td>\n      <td>0</td>\n      <td>0</td>\n      <td>317</td>\n      <td>262366000</td>\n    </tr>\n    <tr>\n      <th>4</th>\n      <td>1/1/2025</td>\n      <td>1/31/2025</td>\n      <td>9358508</td>\n      <td>85</td>\n      <td>0</td>\n      <td>0</td>\n      <td>2463</td>\n      <td>25</td>\n      <td>0</td>\n      <td>0</td>\n      <td>318</td>\n      <td>262366000</td>\n    </tr>\n    <tr>\n      <th>...</th>\n      <td>...</td>\n      <td>...</td>\n      <td>...</td>\n      <td>...</td>\n      <td>...</td>\n      <td>...</td>\n      <td>...</td>\n      <td>...</td>\n      <td>...</td>\n      <td>...</td>\n      <td>...</td>\n      <td>...</td>\n    </tr>\n    <tr>\n      <th>422</th>\n      <td>1/1/2025</td>\n      <td>1/31/2025</td>\n      <td>9358504</td>\n      <td>140</td>\n      <td>0</td>\n      <td>0</td>\n      <td>2463</td>\n      <td>25</td>\n      <td>0</td>\n      <td>0</td>\n      <td>163</td>\n      <td>262362000</td>\n    </tr>\n    <tr>\n      <th>423</th>\n      <td>1/1/2025</td>\n      <td>1/31/2025</td>\n      <td>9358504</td>\n      <td>77</td>\n      <td>0</td>\n      <td>0</td>\n      <td>2463</td>\n      <td>25</td>\n      <td>0</td>\n      <td>0</td>\n      <td>310</td>\n      <td>262362000</td>\n    </tr>\n    <tr>\n      <th>424</th>\n      <td>1/1/2025</td>\n      <td>1/31/2025</td>\n      <td>9358504</td>\n      <td>78</td>\n      <td>0</td>\n      <td>0</td>\n      <td>2463</td>\n      <td>25</td>\n      <td>0</td>\n      <td>0</td>\n      <td>311</td>\n      <td>262362000</td>\n    </tr>\n    <tr>\n      <th>425</th>\n      <td>1/1/2025</td>\n      <td>1/31/2025</td>\n      <td>9358504</td>\n      <td>222</td>\n      <td>0</td>\n      <td>0</td>\n      <td>2463</td>\n      <td>25</td>\n      <td>0</td>\n      <td>0</td>\n      <td>165</td>\n      <td>262362000</td>\n    </tr>\n    <tr>\n      <th>426</th>\n      <td>1/1/2025</td>\n      <td>1/31/2025</td>\n      <td>9358504</td>\n      <td>69</td>\n      <td>0</td>\n      <td>0</td>\n      <td>2463</td>\n      <td>25</td>\n      <td>0</td>\n      <td>0</td>\n      <td>302</td>\n      <td>262362000</td>\n    </tr>\n  </tbody>\n</table>\n<p>427 rows × 12 columns</p>\n</div>"
     },
     "execution_count": 57,
     "metadata": {},
     "output_type": "execute_result"
    }
   ],
   "source": [
    "carga_inducidas_excel"
   ],
   "metadata": {
    "collapsed": false
   }
  }
 ],
 "metadata": {
  "kernelspec": {
   "display_name": "Python 3",
   "language": "python",
   "name": "python3"
  },
  "language_info": {
   "codemirror_mode": {
    "name": "ipython",
    "version": 2
   },
   "file_extension": ".py",
   "mimetype": "text/x-python",
   "name": "python",
   "nbconvert_exporter": "python",
   "pygments_lexer": "ipython2",
   "version": "2.7.6"
  }
 },
 "nbformat": 4,
 "nbformat_minor": 0
}

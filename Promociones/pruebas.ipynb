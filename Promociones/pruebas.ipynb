{
 "cells": [
  {
   "cell_type": "code",
   "execution_count": 1,
   "id": "45111b1a",
   "metadata": {},
   "outputs": [],
   "source": [
    "import pandas as pd\n",
    "import tkinter as tk\n",
    "from tkinter import filedialog\n",
    "import getpass\n",
    "import time\n",
    "import pandas as pd\n",
    "import os\n",
    "import snowflake.connector\n",
    "from utils import snowflake_login, descargar_segmento\n",
    "from snowflake.connector.pandas_tools import write_pandas\n",
    "from datetime import datetime\n",
    "import streamlit as st"
   ]
  },
  {
   "cell_type": "code",
   "execution_count": 2,
   "id": "050dba9c",
   "metadata": {},
   "outputs": [
    {
     "name": "stdout",
     "output_type": "stream",
     "text": [
      "Intento 1\n",
      "Error: 251005: User is empty\n",
      "Incorrect Password - provide again\n",
      "Intento 2\n",
      "Correct Password - connected to SNOWFLAKE\n"
     ]
    }
   ],
   "source": [
    "user, cursor, snow = snowflake_login()"
   ]
  },
  {
   "cell_type": "code",
   "execution_count": 3,
   "id": "fa459727",
   "metadata": {},
   "outputs": [
    {
     "data": {
      "text/plain": [
       "\"'20250723_182255'\""
      ]
     },
     "execution_count": 3,
     "metadata": {},
     "output_type": "execute_result"
    }
   ],
   "source": [
    "f = datetime.now().strftime('%Y%m%d_%H%M%S')\n",
    "f = \"'\" + f + \"'\"\n",
    "f"
   ]
  },
  {
   "cell_type": "code",
   "execution_count": 7,
   "id": "e7f60ba6",
   "metadata": {},
   "outputs": [
    {
     "data": {
      "text/plain": [
       "'WITH PP AS (\\nSELECT\\n    DISTINCT A.CODIGO_TIENDA, B.FAMILIA, COUNT(DISTINCT A.PVP_NUEVO) AS P\\nFROM\\n    SANDBOX_PLUS.DWH.INPUT_PRICING_ACUMULADO A\\nLEFT JOIN\\n    SANDBOX_PLUS.DWH.RESULTADO_PRICING_HISTORICO_BIS B\\nON\\n    A.ORIN = B.ORIN AND A.CODIGO_TIENDA = B.GEOG_LOCL_COD\\nWHERE\\n    FECHA_EJECUCION = (SELECT MAX(FECHA_EJECUCION) FROM SANDBOX_PLUS.DWH.RESULTADO_PRICING_HISTORICO_BIS)\\nAND\\n    TABLA={f}\\nGROUP BY ALL\\n)\\n\\nSELECT\\n    A.*, B.FAMILIA, B.ARTC_ARTC_DESC, B.STCK_PRECIO_VENTA_DIA_CIVA\\nFROM\\n    SANDBOX_PLUS.DWH.INPUT_PRICING_ACUMULADO A\\nJOIN\\n    SANDBOX_PLUS.DWH.RESULTADO_PRICING_HISTORICO_BIS B\\nON\\n    A.ORIN = B.ORIN AND A.CODIGO_TIENDA = B.GEOG_LOCL_COD\\nJOIN\\n    PP\\nON\\n    A.CODIGO_TIENDA = PP.CODIGO_TIENDA AND B.FAMILIA = PP.FAMILIA AND P>1\\nWHERE\\n    FECHA_EJECUCION=(SELECT MAX(FECHA_EJECUCION) FROM SANDBOX_PLUS.DWH.RESULTADO_PRICING_HISTORICO_BIS)\\nAND\\n    TABLA={f}\\nORDER BY\\n    GEOG_LOCL_COD, B.FAMILIA;'"
      ]
     },
     "execution_count": 7,
     "metadata": {},
     "output_type": "execute_result"
    }
   ],
   "source": [
    "with open('Queries/DUPLICADOS.sql', 'r', encoding=\"utf8\") as file: command = file.read()\n",
    "command"
   ]
  },
  {
   "cell_type": "code",
   "execution_count": 8,
   "id": "3eb2dba6",
   "metadata": {},
   "outputs": [
    {
     "data": {
      "text/plain": [
       "<snowflake.connector.cursor.SnowflakeCursor at 0x28db1de68a0>"
      ]
     },
     "execution_count": 8,
     "metadata": {},
     "output_type": "execute_result"
    }
   ],
   "source": [
    "cursor.execute(command.format(f=f))"
   ]
  },
  {
   "cell_type": "code",
   "execution_count": null,
   "id": "ac10737c",
   "metadata": {},
   "outputs": [
    {
     "data": {
      "text/html": [
       "<div>\n",
       "<style scoped>\n",
       "    .dataframe tbody tr th:only-of-type {\n",
       "        vertical-align: middle;\n",
       "    }\n",
       "\n",
       "    .dataframe tbody tr th {\n",
       "        vertical-align: top;\n",
       "    }\n",
       "\n",
       "    .dataframe thead th {\n",
       "        text-align: right;\n",
       "    }\n",
       "</style>\n",
       "<table border=\"1\" class=\"dataframe\">\n",
       "  <thead>\n",
       "    <tr style=\"text-align: right;\">\n",
       "      <th></th>\n",
       "      <th>CODIGO_TIENDA</th>\n",
       "      <th>ORIN</th>\n",
       "      <th>PVP_NUEVO</th>\n",
       "      <th>EFFECTIVE_DATE</th>\n",
       "      <th>TABLA</th>\n",
       "      <th>FAMILIA</th>\n",
       "      <th>ARTC_ARTC_DESC</th>\n",
       "      <th>STCK_PRECIO_VENTA_DIA_CIVA</th>\n",
       "    </tr>\n",
       "  </thead>\n",
       "  <tbody>\n",
       "  </tbody>\n",
       "</table>\n",
       "</div>"
      ],
      "text/plain": [
       "Empty DataFrame\n",
       "Columns: [CODIGO_TIENDA, ORIN, PVP_NUEVO, EFFECTIVE_DATE, TABLA, FAMILIA, ARTC_ARTC_DESC, STCK_PRECIO_VENTA_DIA_CIVA]\n",
       "Index: []"
      ]
     },
     "execution_count": 9,
     "metadata": {},
     "output_type": "execute_result"
    }
   ],
   "source": [
    "d = cursor.fetch_pandas_all()\n",
    "d"
   ]
  },
  {
   "cell_type": "code",
   "execution_count": 5,
   "id": "6994716c",
   "metadata": {},
   "outputs": [],
   "source": [
    "c = \"WHERE LGL.GEOG_LOCL_COD IN (101, 115) AND LAA.ORIN IN ('1000038127')\""
   ]
  },
  {
   "cell_type": "code",
   "execution_count": 12,
   "id": "85af1690",
   "metadata": {},
   "outputs": [
    {
     "data": {
      "text/plain": [
       "\"WITH P AS (\\nSELECT\\n    ARTC_ARTC_ID, GEOG_LOCL_ID, MEDIAN(STCK_PRECIO_VENTA_DIA_CIVA) AS PRECIO_MEDIANO\\nFROM\\n    MSTRDB.DWH.FT_STOCK\\nWHERE\\n    TIEM_DIA_ID = CURRENT_DATE - 30\\nGROUP BY ALL\\n)\\n\\n, STOCK AS (\\nSELECT\\n    DISTINCT FS.ARTC_ARTC_ID, FS.GEOG_LOCL_ID, FS.STCK_PRECIO_VENTA_DIA_CIVA AS PVP_ACTUAL,\\n    CASE\\n        WHEN FCUR.ORIGIN_COUNTRY_ID = 'UYU' THEN FCUR.COSTO_UNITARIO_RMS\\n        ELSE FS.STCK_COSTO_PROM_POND\\n    END AS COSTO_UNITARIO,\\n    COSTO_UNITARIO * ROUND(FS.STCK_PRECIO_VENTA_DIA_CIVA/FS.STCK_PRECIO_VENTA_DIA, 2) AS COSTO_UNITARIO_CON_IVA\\nFROM\\n    MSTRDB.DWH.FT_STOCK FS\\nJOIN\\n    MSTRDB.DWH.FT_COSTO_UNITARIO_RMS FCUR\\nON\\n    FS.GEOG_LOCL_ID = FCUR.GEOG_LOCL_ID AND FS.ARTC_ARTC_ID = FCUR.ARTC_ARTC_ID\\n    AND FCUR.TIEM_DIA_ID = (SELECT MAX(TIEM_DIA_ID) FROM MSTRDB.DWH.FT_COSTO_UNITARIO_RMS)\\nWHERE\\n    FS.TIEM_DIA_ID = CURRENT_DATE - 1\\n)\\n\\nSELECT\\n    LAA.ORIN, LGL.GEOG_LOCL_COD AS LOCAL, PVP_ACTUAL, PRECIO_MEDIANO, COSTO_UNITARIO_CON_IVA,\\n    ROUND(DIV0(PVP_ACTUAL - COSTO_UNITARIO_CON_IVA, PVP_ACTUAL), 2) AS MARGEN\\nFROM\\n    STOCK AS FS\\nJOIN\\n    MSTRDB.DWH.LU_ARTC_ARTICULO LAA\\nON\\n    FS.ARTC_ARTC_ID = LAA.ARTC_ARTC_ID\\nJOIN\\n    MSTRDB.DWH.LU_GEOG_LOCAL LGL\\nON\\n    FS.GEOG_LOCL_ID = LGL.GEOG_LOCL_ID\\nJOIN\\n    P\\nON\\n    FS.ARTC_ARTC_ID = P.ARTC_ARTC_ID AND FS.GEOG_LOCL_ID = P.GEOG_LOCL_ID\\n{cond};\""
      ]
     },
     "execution_count": 12,
     "metadata": {},
     "output_type": "execute_result"
    }
   ],
   "source": [
    "with open('Queries/PRECIOS.sql', 'r', encoding=\"utf8\") as file: command = file.read()\n",
    "command"
   ]
  },
  {
   "cell_type": "code",
   "execution_count": 15,
   "id": "ec1369ab",
   "metadata": {},
   "outputs": [
    {
     "data": {
      "text/plain": [
       "<snowflake.connector.cursor.SnowflakeCursor at 0x28db1de68a0>"
      ]
     },
     "execution_count": 15,
     "metadata": {},
     "output_type": "execute_result"
    }
   ],
   "source": [
    "cursor.execute(command.format(cond=c))"
   ]
  },
  {
   "cell_type": "code",
   "execution_count": 16,
   "id": "28c4a4b3",
   "metadata": {},
   "outputs": [
    {
     "data": {
      "text/html": [
       "<div>\n",
       "<style scoped>\n",
       "    .dataframe tbody tr th:only-of-type {\n",
       "        vertical-align: middle;\n",
       "    }\n",
       "\n",
       "    .dataframe tbody tr th {\n",
       "        vertical-align: top;\n",
       "    }\n",
       "\n",
       "    .dataframe thead th {\n",
       "        text-align: right;\n",
       "    }\n",
       "</style>\n",
       "<table border=\"1\" class=\"dataframe\">\n",
       "  <thead>\n",
       "    <tr style=\"text-align: right;\">\n",
       "      <th></th>\n",
       "      <th>ORIN</th>\n",
       "      <th>LOCAL</th>\n",
       "      <th>PVP_ACTUAL</th>\n",
       "      <th>PRECIO_MEDIANO</th>\n",
       "      <th>COSTO_UNITARIO_CON_IVA</th>\n",
       "      <th>MARGEN</th>\n",
       "    </tr>\n",
       "  </thead>\n",
       "  <tbody>\n",
       "    <tr>\n",
       "      <th>0</th>\n",
       "      <td>1000038127</td>\n",
       "      <td>101</td>\n",
       "      <td>245.0</td>\n",
       "      <td>244.0</td>\n",
       "      <td>156.404</td>\n",
       "      <td>0.36</td>\n",
       "    </tr>\n",
       "    <tr>\n",
       "      <th>1</th>\n",
       "      <td>1000038127</td>\n",
       "      <td>115</td>\n",
       "      <td>198.0</td>\n",
       "      <td>244.0</td>\n",
       "      <td>156.404</td>\n",
       "      <td>0.21</td>\n",
       "    </tr>\n",
       "  </tbody>\n",
       "</table>\n",
       "</div>"
      ],
      "text/plain": [
       "         ORIN LOCAL  PVP_ACTUAL  PRECIO_MEDIANO  COSTO_UNITARIO_CON_IVA  \\\n",
       "0  1000038127   101       245.0           244.0                 156.404   \n",
       "1  1000038127   115       198.0           244.0                 156.404   \n",
       "\n",
       "   MARGEN  \n",
       "0    0.36  \n",
       "1    0.21  "
      ]
     },
     "execution_count": 16,
     "metadata": {},
     "output_type": "execute_result"
    }
   ],
   "source": [
    "p = cursor.fetch_pandas_all()\n",
    "p"
   ]
  },
  {
   "cell_type": "code",
   "execution_count": 4,
   "id": "19209850",
   "metadata": {},
   "outputs": [
    {
     "data": {
      "text/html": [
       "<div>\n",
       "<style scoped>\n",
       "    .dataframe tbody tr th:only-of-type {\n",
       "        vertical-align: middle;\n",
       "    }\n",
       "\n",
       "    .dataframe tbody tr th {\n",
       "        vertical-align: top;\n",
       "    }\n",
       "\n",
       "    .dataframe thead th {\n",
       "        text-align: right;\n",
       "    }\n",
       "</style>\n",
       "<table border=\"1\" class=\"dataframe\">\n",
       "  <thead>\n",
       "    <tr style=\"text-align: right;\">\n",
       "      <th></th>\n",
       "      <th>CODIGO_TIENDA</th>\n",
       "      <th>ORIN</th>\n",
       "      <th>PVP_NUEVO</th>\n",
       "      <th>EFFECTIVE_DATE</th>\n",
       "      <th>TABLA</th>\n",
       "      <th>FAMILIA</th>\n",
       "      <th>ARTC_ARTC_DESC</th>\n",
       "      <th>STCK_PRECIO_VENTA_DIA_CIVA</th>\n",
       "    </tr>\n",
       "  </thead>\n",
       "  <tbody>\n",
       "  </tbody>\n",
       "</table>\n",
       "</div>"
      ],
      "text/plain": [
       "Empty DataFrame\n",
       "Columns: [CODIGO_TIENDA, ORIN, PVP_NUEVO, EFFECTIVE_DATE, TABLA, FAMILIA, ARTC_ARTC_DESC, STCK_PRECIO_VENTA_DIA_CIVA]\n",
       "Index: []"
      ]
     },
     "execution_count": 4,
     "metadata": {},
     "output_type": "execute_result"
    }
   ],
   "source": [
    "duplicados = descargar_segmento(cursor, 'DUPLICADOS', cond=f)\n",
    "duplicados"
   ]
  },
  {
   "cell_type": "code",
   "execution_count": 7,
   "id": "009ca1ea",
   "metadata": {},
   "outputs": [
    {
     "data": {
      "text/html": [
       "<div>\n",
       "<style scoped>\n",
       "    .dataframe tbody tr th:only-of-type {\n",
       "        vertical-align: middle;\n",
       "    }\n",
       "\n",
       "    .dataframe tbody tr th {\n",
       "        vertical-align: top;\n",
       "    }\n",
       "\n",
       "    .dataframe thead th {\n",
       "        text-align: right;\n",
       "    }\n",
       "</style>\n",
       "<table border=\"1\" class=\"dataframe\">\n",
       "  <thead>\n",
       "    <tr style=\"text-align: right;\">\n",
       "      <th></th>\n",
       "      <th>ORIN</th>\n",
       "      <th>LOCAL</th>\n",
       "      <th>PVP_ACTUAL</th>\n",
       "      <th>PRECIO_MEDIANO</th>\n",
       "      <th>COSTO_UNITARIO_CON_IVA</th>\n",
       "      <th>MARGEN</th>\n",
       "    </tr>\n",
       "  </thead>\n",
       "  <tbody>\n",
       "    <tr>\n",
       "      <th>0</th>\n",
       "      <td>1000038127</td>\n",
       "      <td>101</td>\n",
       "      <td>245.0</td>\n",
       "      <td>244.0</td>\n",
       "      <td>156.404</td>\n",
       "      <td>0.36</td>\n",
       "    </tr>\n",
       "    <tr>\n",
       "      <th>1</th>\n",
       "      <td>1000038127</td>\n",
       "      <td>115</td>\n",
       "      <td>198.0</td>\n",
       "      <td>244.0</td>\n",
       "      <td>156.404</td>\n",
       "      <td>0.21</td>\n",
       "    </tr>\n",
       "  </tbody>\n",
       "</table>\n",
       "</div>"
      ],
      "text/plain": [
       "         ORIN LOCAL  PVP_ACTUAL  PRECIO_MEDIANO  COSTO_UNITARIO_CON_IVA  \\\n",
       "0  1000038127   101       245.0           244.0                 156.404   \n",
       "1  1000038127   115       198.0           244.0                 156.404   \n",
       "\n",
       "   MARGEN  \n",
       "0    0.36  \n",
       "1    0.21  "
      ]
     },
     "execution_count": 7,
     "metadata": {},
     "output_type": "execute_result"
    }
   ],
   "source": [
    "p = descargar_segmento(cursor, 'PRECIOS', cond=c)\n",
    "p"
   ]
  },
  {
   "cell_type": "code",
   "execution_count": null,
   "id": "aa1ec5fb",
   "metadata": {},
   "outputs": [],
   "source": []
  }
 ],
 "metadata": {
  "kernelspec": {
   "display_name": "base",
   "language": "python",
   "name": "python3"
  },
  "language_info": {
   "codemirror_mode": {
    "name": "ipython",
    "version": 3
   },
   "file_extension": ".py",
   "mimetype": "text/x-python",
   "name": "python",
   "nbconvert_exporter": "python",
   "pygments_lexer": "ipython3",
   "version": "3.12.4"
  }
 },
 "nbformat": 4,
 "nbformat_minor": 5
}
